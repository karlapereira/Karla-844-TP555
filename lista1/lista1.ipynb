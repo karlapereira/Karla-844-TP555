{
 "cells": [
  {
   "cell_type": "markdown",
   "metadata": {},
   "source": [
    "TP555 - AI/ML\n",
    "Lista de Exercícios #1\n",
    "\n",
    "1. Defina em suas próprias palavras:\n",
    "\n",
    "a. Inteligência.R: Inteligência é a capacidade de aprender, compreender e conhecer, e assim, conseguir adaptar-se a situações e problemas através de escolhas.\n",
    "\n",
    "b. Inteligência artificial. R: Inteligência Artificial são habilidades reproduzidas pela mão do homem, máquinas que conseguem reproduzir escolhas que exigem raciocínio e compreensão.\n",
    "\n",
    "c. Aprendizado de máquina.R: Aprendizado de máquina é um subcampo da área de inteligência artificial que se baseia na ideia que uma máquina consegue aprender de forma independente através da construção de modelos analíticos ajustados pela própria máquina."
   ]
  },
  {
   "cell_type": "code",
   "execution_count": null,
   "metadata": {},
   "outputs": [],
   "source": [
    "2. Diz-se que um programa de computador aprende com a experiência E com relação a alguma tarefa T e alguma medida de desempenho D , se seu desempenho em T , medido por D , melhorar com a experiência E . Suponha que um algoritmo de aprendizado seja alimentado com muitos dados climáticos históricos, e aprenda aprever o tempo. Qual seria uma escolha razoável para D ?\n",
    "\n",
    "a. A probabilidade de prever corretamente o tempo de uma data futura. (x)\n",
    "\n",
    "b. A tarefa de previsão do tempo.\n",
    "\n",
    "c. O processo do algoritmo que examina uma grande quantidade de dados climáticos históricos.\n",
    "\n",
    "d. Nenhum das alternativas anteriores."
   ]
  },
  {
   "cell_type": "code",
   "execution_count": null,
   "metadata": {},
   "outputs": [],
   "source": [
    "3. Diz-se que um programa de computador aprende com a experiência E com relação a alguma tarefa T e alguma medida de desempenho D , se seu desempenho em T ,medido por D , melhorar com a experiência E. Suponha que você esteja trabalhando numa agência meteorológica e deseje treinar um algoritmo de aprendizado com dados climáticos históricos para que este preveja o tempo. Neste caso, o que seriam T , E ?\n",
    "R: T seria a classificação do tempo e E seria taxa de erro da rede neural."
   ]
  },
  {
   "cell_type": "code",
   "execution_count": null,
   "metadata": {},
   "outputs": [],
   "source": [
    "4. Suponha que você esteja trabalhando em uma agência meteorológica com previsão do tempo, e que a agência faça uma das três previsões para o clima de cada dia: ensolarado , nublado ou chuvoso . Você deseja usar um algoritmo de aprendizadopara prever o tempo de amanhã. Você trataria essa tarefa como uma tarefa de classificação ou de regressão ? Justifique sua escolha.\n",
    "R: Trataria essa tarefa por meio da classificação, pois existe um conjunto finito de valores para os rótulos de previsão para o clima (ensolarado, nublado e chuvoso)."
   ]
  },
  {
   "cell_type": "code",
   "execution_count": null,
   "metadata": {},
   "outputs": [],
   "source": [
    "5. Suponha que você esteja trabalhando em uma empresa de investimentos na previsãodo mercado de ações e gostaria de prever o preço de uma determinada ação amanhã(medido em reais). Você deseja usar um algoritmo de aprendizado para isso. Você trataria essa tarefa como uma tarefa de classificação de regressão ? Justifique sua escolha.\n",
    "R: Como tarefa de regressão, pois os preços das ações variam de um conjunto infinito de valores."
   ]
  },
  {
   "cell_type": "code",
   "execution_count": null,
   "metadata": {},
   "outputs": [],
   "source": [
    "6. Que tipo de algoritmo de aprendizado de máquina você usaria para permitir que um robô andasse em vários terrenos desconhecidos? \n",
    "Dica : o robô precisa, através desensores, entender o estado do terreno (buracos, paredes, subidas íngremes, etc.) e baseado neste estado executar ações (se mover para frente/trás, esquerda/direita) e dependendo do resultado dessas ações decidir quais são as ações corretas para queele ande sem problemas pelo terreno.\n",
    "R: Aprendizado por reforço, pois não se tem os dados de treinamento, o robô irá aprender conforme for \"scaneando\" o terreno, assim fazendo encontrando os estados para se tomar as devidas ações através do mapeamento da política. "
   ]
  },
  {
   "cell_type": "code",
   "execution_count": null,
   "metadata": {},
   "outputs": [],
   "source": [
    "7. Que tipo de algoritmo de aprendizado de máquina você usaria para segmentar clientes de uma grande empresa de e-commerce em vários grupos? \n",
    "Dica : você pode ter os grupos já definidos e treinar um modelo para alocar novos clientes a esses grupos ou querer descobrir diferentes tipos de grupos de clientes.\n",
    "R: Aprendizado não-supervisionado, pois é usado para agrupar automaticamente os dados de entrada em categorias/classes."
   ]
  },
  {
   "cell_type": "code",
   "execution_count": null,
   "metadata": {},
   "outputs": [],
   "source": [
    "8. Pesquise a literatura sobre IA/ML e descubra se as seguintes tarefas podem ser solucionadas por computadores. Se as tarefas puderem ser solucionadas, descreva sucintamente o algoritmo/método de IA/ML utilizado e como o problema é solucionado.\n",
    "Utilize o link abaixo como ponto de partida para sua pesquisa:https://mlc.committees.comsoc.org/research-library/\n",
    "\n",
    "a. Alocação de recursos em redes móveis (e.g., LTE, 5G-NR, etc.).\n",
    "R: Para alocação de potência no MIMO, pode-se usar o método de treinamento por reforço, no qual a rede irá captar a localização dos UEs e tenta encontrar qual a potência necessária para transmitir no determinado local que o usuário se encontra de forma a alocar o mínimo de recurso possível que atenda o usuário.\n",
    "\n",
    "b. Mitigação de colisões em redes sem-fio e móveis.\n",
    "R: Para melhorar a qualidade de serviço nas redes sem fio atenuando “colisões de nós ocultos” podemos utilizar o método de aprendizado não supervisionado, pois o mesmo consegue ajudar a idenficiar um nó oculto (quando dois nós que não são visíveis um ao outro transmitem\n",
    "para um terceiro nó visível para o primeiro), agrupando e rotulando o melhor nó que melhor se assimila.\n",
    "\n",
    "c. Projeto e otimização de esquemas de modulação e codificação.\n",
    "d. Sensoriamento espectral.\n",
    "e. Posicionamento e localização em ambientes indoor.\n",
    "f. Roteamento de redes.\n",
    "g. Detecção e estimação de canal em sistemas de transmissão ópticos.\n",
    "h. Pré-distorção digital de não-linearidades de front-ends de RF.\n",
    "i. Segurança e robustez em redes de comunicação."
   ]
  }
 ],
 "metadata": {
  "kernelspec": {
   "display_name": "Python 3",
   "language": "python",
   "name": "python3"
  },
  "language_info": {
   "codemirror_mode": {
    "name": "ipython",
    "version": 3
   },
   "file_extension": ".py",
   "mimetype": "text/x-python",
   "name": "python",
   "nbconvert_exporter": "python",
   "pygments_lexer": "ipython3",
   "version": "3.7.6"
  }
 },
 "nbformat": 4,
 "nbformat_minor": 4
}
