{
 "cells": [
  {
   "cell_type": "markdown",
   "metadata": {},
   "source": [
    "TP555 - AI/ML\n",
    "Lista de Exercícios #2\n",
    "Regressão Linear\n",
    "\n",
    "1. Qual técnica de regressão linear você usaria se tivesse um conjunto de treinamento com milhares de features? Explique por quais razões você utilizaria esta técnica.\n",
    "R: Iterativamente através do gradiente descendente, ele ajusta os parâmetros iterativamente variação ou decaimento adaptativo, no caso de ter um conjunto com milhares de features não é necessário atualizar manualmente (trabalhoso e demorado), o passo é adaptativamente ajustado de acordo com a performance do modelo além de possuir passos diferentes para cada parâmetro do modelo e atualizá-los independentemente, e quando existe algum parâmetro a ser ajustado o esquema normalmente funciona muito bem para uma grande gama de valores, já a equação normal não é escalonável e consome muita memória."
   ]
  },
  {
   "cell_type": "markdown",
   "metadata": {},
   "source": [
    "2. Suponha que as features (i.e., atributos) do seu conjunto de treinamento tenham escalas muito diferentes. Qual técnica de regressão linear pode sofrer com isso e como? O que pode ser feito para mitigar este problema?\n",
    "R: Gradiente descendente, pois se as features tiverem escalas muito diferentes, os parâmetros de features com escala muito grande vão ser atualizados mais rapidamente do que parâmetros com escala pequena. Pode-se usar o Escalonamento de Features utilizando padronização, pois ele permite que a superfície tenha uma inclinação similiar em todas as direções, ou seja, os atributos ficam com variações similares, com essa superfície o treinamento se torna rápido e o algoritmo converge mais rapidamente, trazendo assim, todos os valores (pesos ou features) para as mesmas magnitudes."
   ]
  },
  {
   "cell_type": "markdown",
   "metadata": {},
   "source": [
    "3. Suponha que você use o gradiente descendente em batelada e plote o erro de cada época. Se você perceber que o erro aumenta constantemente, o que provavelmente está acontecendo? Como você pode consertar isso?\n",
    "R: Pode ter acontecido que o passo de aprendizagem utilizado para o treinamento seja maior do que deveria, com isso ele pode passar o mínimo global, fazendo com que o erro aumente constantemente a cada época. Podemos ajustar o passo de aprendizagem para que seja pequeno o suficiente para convergir corretamente."
   ]
  },
  {
   "cell_type": "markdown",
   "metadata": {},
   "source": [
    "4. Entre os algoritmos baseados no gradiente descendente (GD) que discutimos (batch, estocástico e mini-batch), qual deles chega mais rapidamente à vizinhança da solução ótima? Qual deles realmente converge? O que você pode fazer para que os outros também convirjam?\n",
    "R: O Gradiente Descendente Estocástico e Mini-batch. O Batch. Para o estocástico a solução é reduzir gradualmente a taxa de aprendizagem, para que ele consiga se livrar dos mínimos globais inicialmente (com grandes valores) e depois diminuindo os valores para estabilizar no mínimo global. Para o Mini-batch pode-se usar esquemas de variação do passo de aprendizagem para melhorar a convergência."
   ]
  },
  {
   "cell_type": "markdown",
   "metadata": {},
   "source": [
    "5. Em sala de aula, nós discutimos 3 tipos de algoritmos baseados no gradiente descendente (batch, estocástico e mini-batch), porém, o código do mini-batch foi o único que não foi apresentado. Portanto, neste exercício eu peço que vocês:\n",
    "\n",
    "a. Implementem o algoritmo do mini-batch"
   ]
  },
  {
   "cell_type": "code",
   "execution_count": 8,
   "metadata": {},
   "outputs": [],
   "source": [
    "import numpy as np\n",
    "\n",
    "# linear regression using \"mini-batch\" gradient descent \n",
    "# function to compute hypothesis / predictions \n",
    "def hypothesis(X, theta): \n",
    "    return np.dot(X, theta) \n",
    "  \n",
    "# function to compute gradient of error function w.r.t. theta \n",
    "def gradient(X, y, theta): \n",
    "    h = hypothesis(X, theta) \n",
    "    grad = np.dot(X.transpose(), (h - y)) \n",
    "    return grad \n",
    "  \n",
    "# function to compute the error for current values of theta \n",
    "def cost(X, y, theta): \n",
    "    h = hypothesis(X, theta) \n",
    "    J = np.dot((h - y).transpose(), (h - y)) \n",
    "    J /= 2\n",
    "    return J[0] \n",
    "  \n",
    "# function to create a list containing mini-batches \n",
    "def create_mini_batches(X, y, batch_size): \n",
    "    mini_batches = [] \n",
    "    data = np.hstack((X, y)) \n",
    "    np.random.shuffle(data) \n",
    "    n_minibatches = data.shape[0] // batch_size \n",
    "    i = 0\n",
    "  \n",
    "    for i in range(n_minibatches + 1): \n",
    "        mini_batch = data[i * batch_size:(i + 1)*batch_size, :] \n",
    "        X_mini = mini_batch[:, :-1] \n",
    "        Y_mini = mini_batch[:, -1].reshape((-1, 1)) \n",
    "        mini_batches.append((X_mini, Y_mini)) \n",
    "    if data.shape[0] % batch_size != 0: \n",
    "        mini_batch = data[i * batch_size:data.shape[0]] \n",
    "        X_mini = mini_batch[:, :-1] \n",
    "        Y_mini = mini_batch[:, -1].reshape((-1, 1)) \n",
    "        mini_batches.append((X_mini, Y_mini)) \n",
    "    return mini_batches \n",
    "  \n",
    "# function to perform mini-batch gradient descent \n",
    "def gradientDescent(X, y, learning_rate = 0.001, batch_size = 32): \n",
    "    theta = np.zeros((X.shape[1], 1)) \n",
    "    error_list = [] \n",
    "    max_iters = 3\n",
    "    for itr in range(max_iters): \n",
    "        mini_batches = create_mini_batches(X, y, batch_size) \n",
    "        for mini_batch in mini_batches: \n",
    "            X_mini, y_mini = mini_batch \n",
    "            theta = theta - learning_rate * gradient(X_mini, y_mini, theta) \n",
    "            error_list.append(cost(X_mini, y_mini, theta)) \n",
    "    return theta, error_list"
   ]
  },
  {
   "cell_type": "markdown",
   "metadata": {},
   "source": [
    "b. Testem sua implementação com y = 2*x1 + 2*x2 + w, onde x1, x2 e w são M = 1000 valores retirados de uma distribuição aleatória Gaussiana normal padrão (i.e, com média 0 e variância igual a 1) e utilizando a função hipótese h = a1*x1 + a2*x2,"
   ]
  },
  {
   "cell_type": "code",
   "execution_count": null,
   "metadata": {},
   "outputs": [],
   "source": [
    "import numpy as np\n",
    "\n",
    "# Define the number of examples.\n",
    "M = 1000\n",
    "\n",
    "# Generate target function.\n",
    "x1 = np.random.randn(M, 1)\n",
    "x2 = np.random.randn(M, 1)\n",
    "y = (2*x1) + (2*x2) + np.random.randn(M, 1)\n",
    "\n",
    "# Concatenate both column vectors, x1 and x2.\n",
    "X = np.c_[x1, x2]\n",
    "\n",
    "# Number of epochs.\n",
    "n_epochs = 1\n",
    "# Constant learning rate.\n",
    "alpha = 0.1\n",
    "# Random initialization of parameters.\n",
    "a = np.random.randn(2,1)\n",
    "\n",
    "# linear regression using \"mini-batch\" gradient descent \n",
    "# function to compute hypothesis / predictions \n",
    "def hypothesis(X, theta): \n",
    "    return np.dot(X, theta) \n",
    "  \n",
    "# function to compute gradient of error function w.r.t. theta \n",
    "def gradient(X, y, theta): \n",
    "    h = hypothesis(X, theta) \n",
    "    grad = np.dot(X.transpose(), (h - y)) \n",
    "    return grad \n",
    "  \n",
    "# function to compute the error for current values of theta \n",
    "def cost(X, y, theta): \n",
    "    h = hypothesis(X, theta) \n",
    "    J = np.dot((h - y).transpose(), (h - y)) \n",
    "    J /= 2\n",
    "    return J[0] \n",
    "  \n",
    "# function to create a list containing mini-batches \n",
    "def create_mini_batches(X, y, batch_size): \n",
    "    mini_batches = [] \n",
    "    data = np.hstack((X, y)) \n",
    "    np.random.shuffle(data) \n",
    "    n_minibatches = data.shape[0] // batch_size \n",
    "    i = 0\n",
    "  \n",
    "    for i in range(n_minibatches + 1): \n",
    "        mini_batch = data[i * batch_size:(i + 1)*batch_size, :] \n",
    "        X_mini = mini_batch[:, :-1] \n",
    "        Y_mini = mini_batch[:, -1].reshape((-1, 1)) \n",
    "        mini_batches.append((X_mini, Y_mini)) \n",
    "    if data.shape[0] % batch_size != 0: \n",
    "        mini_batch = data[i * batch_size:data.shape[0]] \n",
    "        X_mini = mini_batch[:, :-1] \n",
    "        Y_mini = mini_batch[:, -1].reshape((-1, 1)) \n",
    "        mini_batches.append((X_mini, Y_mini)) \n",
    "    return mini_batches \n",
    "  \n",
    "# function to perform mini-batch gradient descent \n",
    "def gradientDescent(X, y, learning_rate = 0.001, batch_size = 32): \n",
    "    theta = np.zeros((X.shape[1], 1)) \n",
    "    error_list = [] \n",
    "    max_iters = 3\n",
    "    for itr in range(max_iters): \n",
    "        mini_batches = create_mini_batches(X, y, batch_size) \n",
    "        for mini_batch in mini_batches: \n",
    "            X_mini, y_mini = mini_batch \n",
    "            theta = theta - learning_rate * gradient(X_mini, y_mini, theta) \n",
    "            error_list.append(cost(X_mini, y_mini, theta)) \n",
    "    return theta, error_list"
   ]
  },
  {
   "cell_type": "markdown",
   "metadata": {},
   "source": [
    "c. Plotem a superfície de erro, a superfície de contorno com os parâmetros a1 e a2 para cada iteração do mini-batch, e o gráfico de iteração versus erro,"
   ]
  },
  {
   "cell_type": "code",
   "execution_count": 12,
   "metadata": {},
   "outputs": [
    {
     "data": {
      "image/png": "[encoded data removed]",
      "text/plain": [
       "<Figure size 432x288 with 1 Axes>"
      ]
     },
     "metadata": {
      "needs_background": "light"
     },
     "output_type": "display_data"
    },
    {
     "name": "stdout",
     "output_type": "stream",
     "text": [
      "Number of examples in training set =  7200\n",
      "Number of examples in testing set =  800\n",
      "Bias =  [0.7776056]\n",
      "Coefficients =  [[1.03904098]]\n"
     ]
    },
    {
     "data": {
      "image/png": "[encoded data removed]",
      "text/plain": [
       "<Figure size 432x288 with 1 Axes>"
      ]
     },
     "metadata": {
      "needs_background": "light"
     },
     "output_type": "display_data"
    },
    {
     "data": {
      "image/png": "[encoded data removed]",
      "text/plain": [
       "<Figure size 432x288 with 1 Axes>"
      ]
     },
     "metadata": {
      "needs_background": "light"
     },
     "output_type": "display_data"
    },
    {
     "name": "stdout",
     "output_type": "stream",
     "text": [
      "Mean absolute error =  0.43952608632782053\n"
     ]
    }
   ],
   "source": [
    "# importing dependencies \n",
    "import numpy as np \n",
    "import matplotlib.pyplot as plt \n",
    "  \n",
    "# creating data \n",
    "mean = np.array([5.0, 6.0]) \n",
    "cov = np.array([[1.0, 0.95], [0.95, 1.2]]) \n",
    "data = np.random.multivariate_normal(mean, cov, 8000) \n",
    "  \n",
    "# visualising data \n",
    "plt.scatter(data[:500, 0], data[:500, 1], marker = '.') \n",
    "plt.show() \n",
    "  \n",
    "# train-test-split \n",
    "data = np.hstack((np.ones((data.shape[0], 1)), data)) \n",
    "  \n",
    "split_factor = 0.90\n",
    "split = int(split_factor * data.shape[0]) \n",
    "  \n",
    "X_train = data[:split, :-1] \n",
    "y_train = data[:split, -1].reshape((-1, 1)) \n",
    "X_test = data[split:, :-1] \n",
    "y_test = data[split:, -1].reshape((-1, 1)) \n",
    "  \n",
    "print(\"Number of examples in training set = % d\"%(X_train.shape[0])) \n",
    "print(\"Number of examples in testing set = % d\"%(X_test.shape[0])) \n",
    "\n",
    "# linear regression using \"mini-batch\" gradient descent \n",
    "# function to compute hypothesis / predictions \n",
    "def hypothesis(X, theta): \n",
    "    return np.dot(X, theta) \n",
    "  \n",
    "# function to compute gradient of error function w.r.t. theta \n",
    "def gradient(X, y, theta): \n",
    "    h = hypothesis(X, theta) \n",
    "    grad = np.dot(X.transpose(), (h - y)) \n",
    "    return grad \n",
    "  \n",
    "# function to compute the error for current values of theta \n",
    "def cost(X, y, theta): \n",
    "    h = hypothesis(X, theta) \n",
    "    J = np.dot((h - y).transpose(), (h - y)) \n",
    "    J /= 2\n",
    "    return J[0] \n",
    "  \n",
    "# function to create a list containing mini-batches \n",
    "def create_mini_batches(X, y, batch_size): \n",
    "    mini_batches = [] \n",
    "    data = np.hstack((X, y)) \n",
    "    np.random.shuffle(data) \n",
    "    n_minibatches = data.shape[0] // batch_size \n",
    "    i = 0\n",
    "  \n",
    "    for i in range(n_minibatches + 1): \n",
    "        mini_batch = data[i * batch_size:(i + 1)*batch_size, :] \n",
    "        X_mini = mini_batch[:, :-1] \n",
    "        Y_mini = mini_batch[:, -1].reshape((-1, 1)) \n",
    "        mini_batches.append((X_mini, Y_mini)) \n",
    "    if data.shape[0] % batch_size != 0: \n",
    "        mini_batch = data[i * batch_size:data.shape[0]] \n",
    "        X_mini = mini_batch[:, :-1] \n",
    "        Y_mini = mini_batch[:, -1].reshape((-1, 1)) \n",
    "        mini_batches.append((X_mini, Y_mini)) \n",
    "    return mini_batches \n",
    "  \n",
    "# function to perform mini-batch gradient descent \n",
    "def gradientDescent(X, y, learning_rate = 0.001, batch_size = 32): \n",
    "    theta = np.zeros((X.shape[1], 1)) \n",
    "    error_list = [] \n",
    "    max_iters = 3\n",
    "    for itr in range(max_iters): \n",
    "        mini_batches = create_mini_batches(X, y, batch_size) \n",
    "        for mini_batch in mini_batches: \n",
    "            X_mini, y_mini = mini_batch \n",
    "            theta = theta - learning_rate * gradient(X_mini, y_mini, theta) \n",
    "            error_list.append(cost(X_mini, y_mini, theta)) \n",
    "  \n",
    "    return theta, error_list \n",
    "\n",
    "theta, error_list = gradientDescent(X_train, y_train) \n",
    "print(\"Bias = \", theta[0]) \n",
    "print(\"Coefficients = \", theta[1:]) \n",
    "  \n",
    "# visualising gradient descent \n",
    "plt.plot(error_list) \n",
    "plt.xlabel(\"Number of iterations\") \n",
    "plt.ylabel(\"Cost\") \n",
    "plt.show() \n",
    "\n",
    "# predicting output for X_test \n",
    "y_pred = hypothesis(X_test, theta) \n",
    "plt.scatter(X_test[:, 1], y_test[:, ], marker = '.') \n",
    "plt.plot(X_test[:, 1], y_pred, color = 'orange') \n",
    "plt.show() \n",
    "  \n",
    "# calculating error in predictions \n",
    "error = np.sum(np.abs(y_test - y_pred) / y_test.shape[0]) \n",
    "print(\"Mean absolute error = \", error) "
   ]
  },
  {
   "cell_type": "markdown",
   "metadata": {},
   "source": [
    "d. Encontrem o valor ótimo do passo de aprendizagem ( Dica: utilizem os gráficos da superfície de contorno com os parâmetros a1 e a2 para cada iteração do mini-batch e o gráfico de iteração versus erro para saber se aquele passo é o ótimo. Acessem os links abaixo para entender como vocês podem plotar os gráficos de contorno.),\n",
    "■ https://matplotlib.org/3.1.1/gallery/images_contours_and_fields/contour_demo.html#sphx-glr-gallery-images-contours-and-fields-contour-demo-py\n",
    "■ https://www.python-course.eu/matplotlib_contour_plot.php"
   ]
  },
  {
   "cell_type": "code",
   "execution_count": null,
   "metadata": {},
   "outputs": [],
   "source": [
    "# importing dependencies \n",
    "import numpy as np \n",
    "import matplotlib.pyplot as plt \n",
    "  \n",
    "# creating data \n",
    "mean = np.array([5.0, 6.0]) \n",
    "cov = np.array([[1.0, 0.95], [0.95, 1.2]]) \n",
    "data = np.random.multivariate_normal(mean, cov, 8000) \n",
    "  \n",
    "# visualising data \n",
    "plt.scatter(data[:500, 0], data[:500, 1], marker = '.') \n",
    "plt.show() \n",
    "  \n",
    "# train-test-split \n",
    "data = np.hstack((np.ones((data.shape[0], 1)), data)) \n",
    "  \n",
    "split_factor = 0.90\n",
    "split = int(split_factor * data.shape[0]) \n",
    "  \n",
    "X_train = data[:split, :-1] \n",
    "y_train = data[:split, -1].reshape((-1, 1)) \n",
    "X_test = data[split:, :-1] \n",
    "y_test = data[split:, -1].reshape((-1, 1)) \n",
    "  \n",
    "print(\"Number of examples in training set = % d\"%(X_train.shape[0])) \n",
    "print(\"Number of examples in testing set = % d\"%(X_test.shape[0])) \n",
    "\n",
    "# linear regression using \"mini-batch\" gradient descent \n",
    "# function to compute hypothesis / predictions \n",
    "def hypothesis(X, theta): \n",
    "    return np.dot(X, theta) \n",
    "  \n",
    "# function to compute gradient of error function w.r.t. theta \n",
    "def gradient(X, y, theta): \n",
    "    h = hypothesis(X, theta) \n",
    "    grad = np.dot(X.transpose(), (h - y)) \n",
    "    return grad \n",
    "  \n",
    "# function to compute the error for current values of theta \n",
    "def cost(X, y, theta): \n",
    "    h = hypothesis(X, theta) \n",
    "    J = np.dot((h - y).transpose(), (h - y)) \n",
    "    J /= 2\n",
    "    return J[0] \n",
    "  \n",
    "# function to create a list containing mini-batches \n",
    "def create_mini_batches(X, y, batch_size): \n",
    "    mini_batches = [] \n",
    "    data = np.hstack((X, y)) \n",
    "    np.random.shuffle(data) \n",
    "    n_minibatches = data.shape[0] // batch_size \n",
    "    i = 0\n",
    "  \n",
    "    for i in range(n_minibatches + 1): \n",
    "        mini_batch = data[i * batch_size:(i + 1)*batch_size, :] \n",
    "        X_mini = mini_batch[:, :-1] \n",
    "        Y_mini = mini_batch[:, -1].reshape((-1, 1)) \n",
    "        mini_batches.append((X_mini, Y_mini)) \n",
    "    if data.shape[0] % batch_size != 0: \n",
    "        mini_batch = data[i * batch_size:data.shape[0]] \n",
    "        X_mini = mini_batch[:, :-1] \n",
    "        Y_mini = mini_batch[:, -1].reshape((-1, 1)) \n",
    "        mini_batches.append((X_mini, Y_mini)) \n",
    "    return mini_batches \n",
    "  \n",
    "# function to perform mini-batch gradient descent \n",
    "def gradientDescent(X, y, learning_rate = 0.001, batch_size = 32): \n",
    "    theta = np.zeros((X.shape[1], 1)) \n",
    "    error_list = [] \n",
    "    max_iters = 3\n",
    "    for itr in range(max_iters): \n",
    "        mini_batches = create_mini_batches(X, y, batch_size) \n",
    "        for mini_batch in mini_batches: \n",
    "            X_mini, y_mini = mini_batch \n",
    "            theta = theta - learning_rate * gradient(X_mini, y_mini, theta) \n",
    "            error_list.append(cost(X_mini, y_mini, theta)) \n",
    "  \n",
    "    return theta, error_list \n",
    "\n",
    "theta, error_list = gradientDescent(X_train, y_train) \n",
    "print(\"Bias = \", theta[0]) \n",
    "print(\"Coefficients = \", theta[1:]) \n",
    "  \n",
    "# visualising gradient descent \n",
    "plt.plot(error_list) \n",
    "plt.xlabel(\"Number of iterations\") \n",
    "plt.ylabel(\"Cost\") \n",
    "plt.show() \n",
    "\n",
    "# predicting output for X_test \n",
    "y_pred = hypothesis(X_test, theta) \n",
    "plt.scatter(X_test[:, 1], y_test[:, ], marker = '.') \n",
    "plt.plot(X_test[:, 1], y_pred, color = 'orange') \n",
    "plt.show() \n",
    "  \n",
    "# calculating error in predictions \n",
    "error = np.sum(np.abs(y_test - y_pred) / y_test.shape[0]) \n",
    "print(\"Mean absolute error = \", error) \n"
   ]
  },
  {
   "cell_type": "markdown",
   "metadata": {},
   "source": [
    "e. Comparem os resultados do mini-batch com os resultados obtidos com o GD em\n",
    "batelada (batch) e GD estocástico ( Dica : para a comparação, usem os códigos\n",
    "que estão nos slides da aula e plotem os gráficos da superfície de contorno com\n",
    "os parâmetros a1 e a2 para cada iteração e o gráfico de iteração versus o erro\n",
    "para GD em batelada e estocástico)."
   ]
  },
  {
   "cell_type": "code",
   "execution_count": null,
   "metadata": {},
   "outputs": [],
   "source": []
  },
  {
   "cell_type": "markdown",
   "metadata": {},
   "source": [
    "f. Baseando-se nos gráficos do item anterior, a que conclusões vocês podem chegar quanto ao treinamento dos 3 tipos de gradiente descendente?"
   ]
  },
  {
   "cell_type": "code",
   "execution_count": null,
   "metadata": {},
   "outputs": [],
   "source": []
  },
  {
   "cell_type": "markdown",
   "metadata": {},
   "source": [
    "6. Dada a seguinte função hipótese e assumindo o erro quadrático médio como função de erro h = a0 + a1*x + a2*x^2. Encontre as equações de atualização dos pesos/parâmetros para esta função. Em seguida, utilizando os vetores x e y definidos abaixo, encontre os parâmetros a0, a1 e a2 através do método da regressão de forma fechada e com gradiente descendente em batelada. y = 3 + 1.5*x + 2.3*x^2 + w, onde x é um vetor coluna com M = 1000 valores retirados de uma distribuição aleatória uniformemente distribuída no intervalo de -5 a 5 e w é outro vetor coluna com M valores retirados de uma distribuição aleatória Gaussiana com média 0 e variância igual a 10.\n",
    "\n",
    "a. Plote o gráfico do número de iterações versus o erro."
   ]
  },
  {
   "cell_type": "code",
   "execution_count": null,
   "metadata": {},
   "outputs": [],
   "source": []
  },
  {
   "cell_type": "markdown",
   "metadata": {},
   "source": [
    "b. Baseado no gráfico acima, encontre o melhor valor para o passo de aprendizagem."
   ]
  },
  {
   "cell_type": "code",
   "execution_count": null,
   "metadata": {},
   "outputs": [],
   "source": []
  },
  {
   "cell_type": "markdown",
   "metadata": {},
   "source": [
    "7. Neste exercício você vai utilizar o arquivo training.csv onde a primeira coluna são os valores de x (feature) e a segunda de y (label). Baixe o arquivo do endereço:\n",
    "training.csv . Após, leia o conteúdo do arquivo, ou seja, os vetores x e y, com os seguintes comandos:\n",
    "import pandas as pd\n",
    "import matplotlib.pyplot as plt\n",
    "df = pd.read_csv('training.csv', header=None)\n",
    "x = df[0].to_numpy()\n",
    "y = df[1].to_numpy()\n",
    "fig = plt.figure(figsize=(10,10))\n",
    "plt.plot(x, y, 'b.')\n",
    "\n",
    "Em seguida, utilize o algoritmo do gradiente descendente em batelada para encontrar os parâmetros de cada uma das seguintes funções hipóteses.\n",
    "\n",
    "a. h = a0 + a1*x\n",
    "b. h = a0 + a1*x + a2*x^2\n",
    "c. h = a0 + a1*x + a2*x^2 + a3*x^3\n",
    "d. h = a0 + a1*x + a2*x^2 + a3*x^3 + a4*x^4\n",
    "\n",
    "Para cada uma das funções hipótese acima faça o seguinte:\n",
    "a. Encontre os valores ótimos dos parâmetros através do método de forma fechada, i.e., equação normal, ou também conhecida como método dos mínimos quadrados.\n",
    "b. Encontre as equações de atualização dos parâmetros assumindo o erro quadrático médio como função de erro.\n",
    "c. Encontre o valor ótimo do passo de aprendizagem.\n",
    "d. Plote um gráfico que mostre x vs. y e x vs. h, ou seja, um gráfico comparando os\n",
    "dados originais com a estimativa (i.e., hipótese) da função que gerou y.\n",
    "e. Plote um gráfico com do número de iterações versus o erro."
   ]
  },
  {
   "cell_type": "code",
   "execution_count": null,
   "metadata": {},
   "outputs": [],
   "source": []
  },
  {
   "cell_type": "markdown",
   "metadata": {},
   "source": [
    "Em seguida responda às seguintes perguntas:\n",
    "A. Qual das funções hipótese acima aproxima melhor a função alvo (target), ou seja, qual produz o menor erro ao final do treinamento?\n",
    "B. Dado que você encontrou os parâmetros que otimizam cada uma das funções hipótese acima (ou seja, você agora tem um modelo treinado que pode predizer o resultado para novos exemplos), use os dados contidos no arquivo predicting.csv e calcule o erro quadrático médio para cada um dos modelos (i.e., função hipótese). Qual função hipótese resulta no menor erro quadrático médio? O que você consegue concluir a respeito deste resultado?"
   ]
  },
  {
   "cell_type": "markdown",
   "metadata": {},
   "source": [
    "8. Neste exercício você irá aplicar escalonamento de features aos dados de treinamento e teste. Dada a seguinte função objetivo\n",
    "y = x1 + x2, onde x1 é um vetor coluna com M amostras retiradas de uma distribuição Gaussiana com média 0 e desvio padrão unitário e x2 é um vetor coluna com M amostras retiradas\n",
    "de uma distribuição Gaussiana com média 10 e desvio padrão igual a 10. Gere dois conjuntos de dados, com M = 1000 amostras cada. Um conjunto será utilizado para\n",
    "treinamento e o outro para teste, ou seja, validação do modelo treinado. Utilize o gradiente descendente em batelada com a seguinte função hipótese h = a1*x1 + a2*x2, com a1 e a2 iniciais iguais a -20 e -20, respectivamente. Para todos os casos abaixo, treine os modelos com o mesmo número máximo de iterações, por exemplo, 2000 iterações e um critério de parada que faça o algoritmo parar quando o erro entre duas épocas consecutivas for menor do que 0.001, ou seja, o algoritmo irá parar se o erro for menor do 0.001 ou se atingir o número máximo de iterações. Pede-se:\n",
    "a. Sem aplicar nenhum escalonamento de features aos exemplos de treinamento, plote a superfície de erro, a superfície de contorno com os parâmetros a1 e a2 encontrados durante as iterações (ou seja, o histórico de valores que o algoritmo encontra durante o treinamento do modelo) e o gráfico de erro quadrático médio versus o número de iterações para os conjuntos de treinamento e teste. OBS.1: Não se esqueça de encontrar o valor ótimo para o passo de aprendizagem. OBS.2: Não se esqueça de encontrar o valor ótimo dos pesos/parâmetros e\n",
    "plotá-los no gráfico de contorno com o histórico dos pesos."
   ]
  },
  {
   "cell_type": "markdown",
   "metadata": {},
   "source": [
    "b. Aplique a normalização min-máx às features de treinamento e teste, plote a superfície de erro, a superfície de contorno com os parâmetros a1 e a2 encontrados durante as iterações e o gráfico de erro quadrático médio versus o número de iterações para os conjuntos de treinamento e teste. OBS.1 : Não se esqueça de encontrar o valor ótimo para o passo de aprendizagem. OBS.2 : Não se esqueça que o conjunto de testes é normalizado com os valores mín-máx encontrados para o conjunto de treinamento. OBS.3: Não se esqueça de encontrar o valor ótimo dos pesos/parâmetros e plotá-los no gráfico de contorno com o histórico dos pesos."
   ]
  },
  {
   "cell_type": "markdown",
   "metadata": {},
   "source": [
    "c. Aplique a padronização às features de treinamento e teste, plote a superfície de erro, a superfície de contorno com os parâmetros a1 e a2 encontrados durante as iterações e o gráfico de erro quadrático médio versus o número de iterações para os conjuntos de treinamento e teste. OBS.1: Não se esqueça de encontrar o valor ótimo para o passo de aprendizagem. OBS.2 : Não se esqueça que o conjunto de testes é padronizado com os valores de padronização encontrados para o conjunto de treinamento. OBS.3: Não se esqueça de encontrar o valor ótimo dos pesos/parâmetros e plotá-los no gráfico de contorno com o histórico dos pesos."
   ]
  },
  {
   "cell_type": "markdown",
   "metadata": {},
   "source": [
    "d. Repita os itens b e c aplicando desta vez a normalização min-máx e a padronização, respectivamente, também aos targets/rótulos (ou seja, os valoresde y)."
   ]
  },
  {
   "cell_type": "markdown",
   "metadata": {},
   "source": [
    "e. Baseado nos resultados anteriores o que você pode concluir a respeito do escalonamento de features? (D ica : Comente a respeito das formas das superfícies de erro, dos números de iterações necessárias para se alcançar o ponto ótimo, isso se ele é alcançado, da diferença entre o erro quadrático médio obtido para o conjunto de treinamento e o obtido para o conjunto de testes (são similares ou diferentes), da diferença entre os valores do erro quadrático médio para os 3 casos acima, i.e., sem escalonamento e com os 2 tipos de escalonamento com e sem escalonamento dos labels (qual resulta no menor erro? Escalonar os labels traz algum benefício? Como ficam as superfícies de erro quando se escalona os labels?), e o que mais você achar interessante comentar. Quanto mais detalhada sua análise dos resultados, melhor será sua\n",
    "avaliação neste exercício.)"
   ]
  }
 ],
 "metadata": {
  "kernelspec": {
   "display_name": "Python 3",
   "language": "python",
   "name": "python3"
  },
  "language_info": {
   "codemirror_mode": {
    "name": "ipython",
    "version": 3
   },
   "file_extension": ".py",
   "mimetype": "text/x-python",
   "name": "python",
   "nbconvert_exporter": "python",
   "pygments_lexer": "ipython3",
   "version": "3.7.6"
  }
 },
 "nbformat": 4,
 "nbformat_minor": 4
}
