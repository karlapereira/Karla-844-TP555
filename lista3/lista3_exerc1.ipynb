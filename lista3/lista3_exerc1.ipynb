{
 "cells": [
  {
   "cell_type": "markdown",
   "metadata": {},
   "source": [
    "TP555 - AI/ML\n",
    "Lista de Exercícios #3\n",
    "Regressão Polinomial\n",
    "\n",
    "1. Suponha que você esteja usando regressão polinomial. Você plota as curvas de aprendizado e percebe que há uma grande diferença entre o erro de treinamento e o erro de validação. O que está acontecendo? Quais são as três maneiras de resolver\n",
    "isso? OBS.: Curvas de aprendizado: são gráficos mostrando o desempenho do modelo no conjunto de treinamento e no conjunto de validação em função do tamanho do conjunto de treinamento (ou da iteração do treinamento)."
   ]
  },
  {
   "cell_type": "markdown",
   "metadata": {},
   "source": [
    "R: Caso haja uma grande diferença entre o erro de treinamento e o de validação significa que no modelo há um melhor desempenho nos dados de treinamento do que nos dados de validação, indicando que o modelo está sobre-ajustando (overfitting, modelo fica viciado nos dados de treinamento). \n",
    "As 3 maneiras de se resolver isso através da regularização (técnica para reduzir o risco de sobreajuste do modelo ao conjunto de treinamento, aumentando sua capacidade de generalização) são: ridge regression, LASSO e elastic net.\n",
    "\n",
    "Ridge Regression - Ao invés de minimizar apenas o erro quadrático médio, também há a introdução de um termo de penalização proporcional à norma Euclidiana (L2) do vetor de pesos.\n",
    "\n",
    "LASSO Regression - Diferentemente da Ridge Regression, ela adiciona a função de erro um termo de penalização proporcional à norma (L1) do vetor de pesos.\n",
    "\n",
    "Elastict Net - É uma solução intermediária entre Ridge Regressione e LASSO, ela combina penalizações baseadas nas normas L1 e L2 do vetor de pesos."
   ]
  }
 ],
 "metadata": {
  "kernelspec": {
   "display_name": "Python 3",
   "language": "python",
   "name": "python3"
  },
  "language_info": {
   "codemirror_mode": {
    "name": "ipython",
    "version": 3
   },
   "file_extension": ".py",
   "mimetype": "text/x-python",
   "name": "python",
   "nbconvert_exporter": "python",
   "pygments_lexer": "ipython3",
   "version": "3.7.6"
  }
 },
 "nbformat": 4,
 "nbformat_minor": 4
}
