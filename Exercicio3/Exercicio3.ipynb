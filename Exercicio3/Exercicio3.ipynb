{
 "cells": [
  {
   "cell_type": "code",
   "execution_count": 9,
   "metadata": {},
   "outputs": [
    {
     "ename": "SyntaxError",
     "evalue": "EOL while scanning string literal (<ipython-input-9-2da12d1e7eb1>, line 21)",
     "output_type": "error",
     "traceback": [
      "\u001b[1;36m  File \u001b[1;32m\"<ipython-input-9-2da12d1e7eb1>\"\u001b[1;36m, line \u001b[1;32m21\u001b[0m\n\u001b[1;33m    plt.show()'\u001b[0m\n\u001b[1;37m               ^\u001b[0m\n\u001b[1;31mSyntaxError\u001b[0m\u001b[1;31m:\u001b[0m EOL while scanning string literal\n"
     ]
    }
   ],
   "source": [
    "import matplotlib\n",
    "import matplotlib.pyplot as plt\n",
    "import numpy as np\n",
    "\n",
    "from random import random as rnd\n",
    "\n",
    "#Data for plotting\n",
    "m = 1000 #nº de elementos\n",
    "x = np.random.normal(size=m) # vetor coluna com M elementos retirados de uma distribuição aleatória uniforme\n",
    "w = np.random.normal(size=m) # vetor coluna com M elementos retirados de uma distribuição aleatória Gaussiana normal\n",
    "y = 1.2 + 2.3*x + 10*w\n",
    "\n",
    "fig, ax = plt.subplots()\n",
    "ax.plot(x, y, '.')\n",
    "\n",
    "ax.set(xlabel='input (x)', ylabel='output (y)',\n",
    "       title='Gráfico 2D input e output')\n",
    "ax.grid()\n",
    "\n",
    "fig.savefig(\"grafico.png\")\n",
    "plt.show()"
   ]
  },
  {
   "cell_type": "code",
   "execution_count": null,
   "metadata": {},
   "outputs": [],
   "source": []
  }
 ],
 "metadata": {
  "kernelspec": {
   "display_name": "Python 3",
   "language": "python",
   "name": "python3"
  },
  "language_info": {
   "codemirror_mode": {
    "name": "ipython",
    "version": 3
   },
   "file_extension": ".py",
   "mimetype": "text/x-python",
   "name": "python",
   "nbconvert_exporter": "python",
   "pygments_lexer": "ipython3",
   "version": "3.7.6"
  }
 },
 "nbformat": 4,
 "nbformat_minor": 4
}
