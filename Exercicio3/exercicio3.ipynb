{
 "cells": [
  {
   "cell_type": "code",
   "execution_count": null,
   "metadata": {},
   "outputs": [],
   "source": [
    "'import matplotlib\n",
    "import matplotlib.pyplot as plt\n",
    "import numpy as np\n",
    "\n",
    "from random import random as rnd\n",
    "\n",
    "#Data for plotting\n",
    "m = 1000 #nº de elementos\n",
    "x = np.random.normal(size=m) # vetor coluna com M elementos retirados de uma distribuição aleatória uniforme\n",
    "w = np.random.normal(size=m) # vetor coluna com M elementos retirados de uma distribuição aleatória Gaussiana normal\n",
    "y = 1.2 + 2.3*x + 10*w\n",
    "\n",
    "fig, ax = plt.subplots()\n",
    "ax.plot(x, y, '.')\n",
    "\n",
    "ax.set(xlabel='input (x)', ylabel='output (y)',\n",
    "       title='Gráfico 2D input e output')\n",
    "ax.grid()\n",
    "\n",
    "fig.savefig(\"grafico.png\")\n",
    "plt.show()'"
   ]
  },
  {
   "cell_type": "code",
   "execution_count": null,
   "metadata": {},
   "outputs": [],
   "source": []
  }
 ],
 "metadata": {
  "kernelspec": {
   "display_name": "Python 3",
   "language": "python",
   "name": "python3"
  },
  "language_info": {
   "codemirror_mode": {
    "name": "ipython",
    "version": 3
   },
   "file_extension": ".py",
   "mimetype": "text/x-python",
   "name": "python",
   "nbconvert_exporter": "python",
   "pygments_lexer": "ipython3",
   "version": "3.7.6"
  }
 },
 "nbformat": 4,
 "nbformat_minor": 4
}
