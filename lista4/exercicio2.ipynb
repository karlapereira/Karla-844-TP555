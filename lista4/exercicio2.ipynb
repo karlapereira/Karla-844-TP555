{
 "cells": [
  {
   "cell_type": "markdown",
   "metadata": {},
   "source": [
    "2. Neste exercício você vai prever se Jair pagará o empréstimo que ele está solicitando junto à um banco para montar uma indústria farmacêutica especializada na produção de hidroxicloroquina. Jair possui os seguintes atributos: Possui casa própria? Não - Estado civil: Casado - Experiência de trabalho: 3 . Portanto, dado estes atributos sobre Jair, qual a probabilidade de que ele pague o empréstimo? Qual a probabilidade de que ele não pague o empréstimo. Baseado nas duas probabilidades, caso você trabalhasse no banco, você autorizaria o empréstimo? Para calcular as probabilidades, utilize os dados da tabela abaixo. ( Dica: utilize a teoria do classificador naive Bayes).\n",
    "\n",
    "Possui casa própria? Estado civil Experiência de trabalho(0-5) Pagou?\n",
    "Sim Solteiro 3 Sim\n",
    "Não Casado 4 Sim\n",
    "Não Solteiro 5 Sim\n",
    "Sim Casado 4 Sim\n",
    "Não Divorciado 2 Não\n",
    "Não Casado 4 Sim\n",
    "Sim Divorciado 2 Sim\n",
    "Não Casado 3 Não\n",
    "Não Casado 3 Sim\n",
    "Sim Solteiro 2 Não"
   ]
  },
  {
   "cell_type": "markdown",
   "metadata": {},
   "source": [
    "P(pagar_sim) = 7/10\n",
    "P(pagar_não) = 3/10\n",
    "\n",
    "#Casa\n",
    "P(casa=sim/pagar_sim) = 3/7 = 0.4285\n",
    "P(casa=não/pagar_sim) = 4/7 =  0.5714\n",
    "\n",
    "P(casa=sim/pagar_não) = 1/3 = 0.3333\n",
    "P(casa=não/pagar_não) = 2/3 = 0.6666\n",
    "\n",
    "#Estado Civil (EC)\n",
    "P(EC=casado/pagar_sim) = 4/7 = 0.5714\n",
    "P(EC=casado/pagar_não) = 1/3 = 0.3333\n",
    "\n",
    "#Experiência de trabalho (ET)\n",
    "E(ET/pagar_sim) = (3+4+5+4+4+2+3)/7 = 25/7 = 3.57\n",
    "std(ET/pagar_sim) = 3.59\n",
    "\n",
    "E(ET/pagar_não) = (2+3+2)/3 = 2.3333\n",
    "std(ET/pagar_não) = 2.0905\n",
    "\n",
    "P(ET=3/pagar_sim) = 0.109734\n",
    "P(ET=3/pagar_não) = 0.181374\n",
    "\n",
    "P(pagar_sim/casa=não,EC=casado,ET=3) = P(casa=não/pagar_sim)*P(EC=casado/pagar_sim)*P(ET=3/pagar_sim)*P(pagar_sim)\n",
    "P(pagar_sim/casa=não,EC=casado,ET=3) = 0.5714*0.5714*0.109734*0.7 = 2.51E-02\n",
    "\n",
    "P(pagar_não/casa=não,EC=casado,ET=3) = P(casa=não/pagar_não)*P(EC=casado/pagar_não)*P(ET=3/pagar_não)*P(pagar_não)\n",
    "P(pagar_não/casa=não,EC=casado,ET=3) = 0.6666*0.3333*0.181374*0.3 = 1.21E-02\n",
    "\n",
    "OBS.: (Foi usado a ferramenta do excel para pegar as entradas(input) do exercício e retornar o desvido padrão e P(Xk/atributo) e as probabilidades).\n",
    "\n",
    "R: A probabilidade é maior para o caso do Jair pagar sim."
   ]
  }
 ],
 "metadata": {
  "kernelspec": {
   "display_name": "Python 3",
   "language": "python",
   "name": "python3"
  },
  "language_info": {
   "codemirror_mode": {
    "name": "ipython",
    "version": 3
   },
   "file_extension": ".py",
   "mimetype": "text/x-python",
   "name": "python",
   "nbconvert_exporter": "python",
   "pygments_lexer": "ipython3",
   "version": "3.7.6"
  }
 },
 "nbformat": 4,
 "nbformat_minor": 4
}
