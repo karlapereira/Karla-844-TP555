{
 "cells": [
  {
   "cell_type": "markdown",
   "metadata": {},
   "source": [
    "7. Neste exercício você irá comparar as classificações Multinomial e Bernoulli. Utilize as mensagens abaixo e seus respectivos rótulos para treinar um classificador naive Bayes\n",
    "com distribuição de Bernoulli e outro classificador naive Bayes com distribuição Multinomial.\n",
    "x_train = np.array(['Chinese Beijing Chinese',\n",
    "'Chinese Chinese Shanghai',\n",
    "'Chinese Macao',\n",
    "'Tokyo Japan Chinese'])\n",
    "y_train = np.array(['china','china','china','not china'])\n",
    "Instancie um objeto da classe CountVectorizer com o parâmetro binary = True para o classificador naive Bayes com distribuição de Bernoulli. Para o classificador naive Bayes com distribuição Multinomial, instancie um objeto da classe CountVectorizer com o parâmetro binary = False . Em seguida, treine os classificadores. Utilize os seguintes comandos para verificar os nomes dos atributos e a matriz com a contagem dos atributos para cada instância da classe CountVectorizer , onde vect é o objeto da classe CountVectorizer e x_train_dtm é o matriz de contagem gerada pela execução do método fit_transform da classe CountVectorizer . Não se esqueça de transformar a mensagem de validação, x_test , com o método transform , antes de predizer sua classe para cada classificador.\n",
    "print(vect.get_feature_names())\n",
    "print(x_train_dtm.toarray())\n",
    "De posse dos modelos treinados, pede-se\n",
    "A. Imprima na tela de seu Notebook do Jupyter o nome dos atributos e a matriz de contagem dos atributos para cada uma das instâncias de CountVectorizer .\n",
    "B. Utilize o método predict das classes BernoulliNB e MultinomialNB e preveja a qual classe a mensagem abaixo pertence para cada um dos classificadores. x_test = np.array(['Chinese Chinese Chinese Tokyo Japan'])\n",
    "C. Calcule manualmente a probabilidade de cada classe, ou seja, ‘china’ e ‘not china’, dado a mensagem de teste para os 2 classificadores. Apresente os cálculos das probabilidades a priori e a posteriori .\n",
    "D. Como você deve ter percebido, existe diferença na classificação feita pelos 2 classificadores. Explique o motivo da classificação feita por cada classificador.\n",
    "( Dica : Imprima o vetor de contagens de cada classificador com o comando,\n",
    "print(x_test_dtm.toarray())\n",
    "compare as contagens de cada palavra no vetor, além disso, o (C) acima vai te ajudar a entender e responder este item).\n",
    "OBSERVAÇÃO : quando você forem calcular as probabilidades condicionais, vocês irão se deparar com probabilidades nulas, e.g., P(‘japan’ | ‘china’) = 0, e isso faria com que as respostas finais fossem zeradas. Uma solução para esse problema é utilizar a suavização de Laplace também conhecida como suavização adicione 1 . Com a suavização as probabilidades condicionais se tornam P(xk | Cq) = , contagem(xk,Cq) + 1 contagem(x , C ) + V ΣK k=1 c k q | | onde contagem(xk,Cq) é número de vezes que a palavra xk aparece entre todas as palavras que pertencem à classe , é a soma total de palavras Cq ontagem(x , C ) ΣK k=1 c k q pertencentes à classe Cq e |V | é o tamanho do vocabulário, ou seja, o número de atributos. Por exemplo, para o Classificador BernoulliNB P(‘japan’ | ‘china’) = (0 + 1) / (6 + 6), onde =0, = 6 e = 6, pois ontagem(x japan , china ) c k = ′ ′ Cq = ′ ′ ontagem(x , C ) Σ K k=1 c k q |V | os atributos são 'beijing', 'chinese', 'japan', 'macao', 'shanghai' e 'tokyo'."
   ]
  },
  {
   "cell_type": "code",
   "execution_count": 2,
   "metadata": {},
   "outputs": [],
   "source": [
    "# Import all necessary libraries.\n",
    "import pandas as pd\n",
    "import numpy as np\n",
    "from sklearn.naive_bayes import BernoulliNB\n",
    "from sklearn.naive_bayes import MultinomialNB\n",
    "from sklearn.feature_extraction.text import CountVectorizer\n",
    "from sklearn.model_selection import train_test_split\n",
    "from sklearn import metrics\n",
    "from sklearn.metrics import confusion_matrix\n",
    "from sklearn.metrics import accuracy_score, roc_curve, auc\n",
    "import seaborn as sns\n",
    "import matplotlib.pyplot as plt"
   ]
  },
  {
   "cell_type": "code",
   "execution_count": 3,
   "metadata": {},
   "outputs": [],
   "source": [
    "x_train = np.array(['Chinese Beijing Chinese',\n",
    "                   'Chinese Chinese Shanghai',\n",
    "                   'Chinese Macao',\n",
    "                   'Tokyo Japan Chinese'])\n",
    "\n",
    "y_train = np.array(['china','china','china','not china'])\n",
    "\n",
    "x_test = np.array(['Chinese Chinese Chinese Tokyo Japan'])"
   ]
  },
  {
   "cell_type": "code",
   "execution_count": 4,
   "metadata": {},
   "outputs": [
    {
     "name": "stdout",
     "output_type": "stream",
     "text": [
      "['beijing', 'chinese', 'japan', 'macao', 'shanghai', 'tokyo']\n",
      "\n",
      "[[1 1 0 0 0 0]\n",
      " [0 1 0 0 1 0]\n",
      " [0 1 0 1 0 0]\n",
      " [0 1 1 0 0 1]]\n",
      "\n",
      "[[0 1 1 0 0 1]]\n",
      "\n",
      "['not china']\n",
      "\n",
      "[[0.19106679 0.80893321]]\n"
     ]
    }
   ],
   "source": [
    "#bernoulli\n",
    "\n",
    "vect = CountVectorizer(binary=True)\n",
    "\n",
    "x_train_dtm = vect.fit_transform(x_train)\n",
    "\n",
    "print(vect.get_feature_names())\n",
    "print()\n",
    "print(x_train_dtm.toarray())\n",
    "print()\n",
    "\n",
    "x_test_dtm = vect.transform(x_test)\n",
    "\n",
    "print(x_test_dtm.toarray())\n",
    "print()\n",
    "\n",
    "model = BernoulliNB(binarize=None)\n",
    "\n",
    "model.fit(x_train_dtm, y_train)\n",
    "\n",
    "y_pred_class = model.predict(x_test_dtm)\n",
    "\n",
    "print(y_pred_class)\n",
    "print()\n",
    "\n",
    "print(model.predict_proba(x_test_dtm))"
   ]
  },
  {
   "cell_type": "code",
   "execution_count": 5,
   "metadata": {},
   "outputs": [
    {
     "name": "stdout",
     "output_type": "stream",
     "text": [
      "['beijing', 'chinese', 'japan', 'macao', 'shanghai', 'tokyo']\n",
      "\n",
      "[[1 2 0 0 0 0]\n",
      " [0 2 0 0 1 0]\n",
      " [0 1 0 1 0 0]\n",
      " [0 1 1 0 0 1]]\n",
      "\n",
      "[[0 3 1 0 0 1]]\n",
      "\n",
      "['china']\n",
      "\n",
      "[[0.68975861 0.31024139]]\n"
     ]
    }
   ],
   "source": [
    "#multinomial\n",
    "x_train = np.array(['Chinese Beijing Chinese',\n",
    "                   'Chinese Chinese Shanghai',\n",
    "                   'Chinese Macao',\n",
    "                   'Tokyo Japan Chinese'])\n",
    "\n",
    "y_train = np.array(['china','china','china','not china'])\n",
    "\n",
    "x_test = np.array(['Chinese Chinese Chinese Tokyo Japan'])\n",
    "\n",
    "vect = CountVectorizer()\n",
    "\n",
    "x_train_dtm = vect.fit_transform(x_train)\n",
    "\n",
    "print(vect.get_feature_names())\n",
    "print()\n",
    "print(x_train_dtm.toarray())\n",
    "print()\n",
    "\n",
    "x_test_dtm = vect.transform(x_test)\n",
    "\n",
    "print(x_test_dtm.toarray())\n",
    "print()\n",
    "\n",
    "model = MultinomialNB()\n",
    "\n",
    "model.fit(x_train_dtm, y_train)\n",
    "\n",
    "y_pred_class = model.predict(x_test_dtm)\n",
    "\n",
    "print(y_pred_class)\n",
    "print()\n",
    "\n",
    "print(model.predict_proba(x_test_dtm))"
   ]
  },
  {
   "cell_type": "markdown",
   "metadata": {},
   "source": [
    "R: Na classificação de bernoulli o vetor utilizado para testes é igual ao quarto vetor para treinamento, ficando classificado como 'not-china'.\n",
    "Na classificação do multinomial é apresentado muitas vezes o indicador 'chinese'."
   ]
  }
 ],
 "metadata": {
  "kernelspec": {
   "display_name": "Python 3",
   "language": "python",
   "name": "python3"
  },
  "language_info": {
   "codemirror_mode": {
    "name": "ipython",
    "version": 3
   },
   "file_extension": ".py",
   "mimetype": "text/x-python",
   "name": "python",
   "nbconvert_exporter": "python",
   "pygments_lexer": "ipython3",
   "version": "3.7.6"
  }
 },
 "nbformat": 4,
 "nbformat_minor": 4
}
