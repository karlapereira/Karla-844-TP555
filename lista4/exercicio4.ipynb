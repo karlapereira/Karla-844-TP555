{
 "cells": [
  {
   "cell_type": "markdown",
   "metadata": {},
   "source": [
    "4. Neste exercício você irá implementar um classificador linear, utilizando o classificador naive Bayes, para realizar a detecção de símbolos QPSK. Os símbolos QPSK são dados pela figura e tabela abaixo. bits Símbolo (I + jQ)\n",
    "\n",
    "O resultado do seu classificador (neste caso, um detector) pode ser comparado com a curva da taxa de erro de símbolo (SER) teórica, a qual é dada por SER = erfc (√ erfc . Es2N0 ) − 4/ 1 (√ Es 2N0 )2\n",
    "Utilizando a classe GaussianNB do módulo naive_bayes da biblioteca sklearn, faça o seguinte\n",
    "A. Construa um classificador linear, utilizando o classificador naive Bayes, para realizar a detecção dos símbolos QPSK.\n",
    "a. Gere N = 1000000 símbolos QPSK aleatórios.\n",
    "b. Passe os símbolos através de um canal AWGN. \n",
    "c. Detecte a probabilidade de erro de símbolo para cada um dos valores do vetor Es/N0 = [-2, 0, 2, 4, 6, 8, 10,12, 14, 16, 18, 20].\n",
    "d. Você pode utilizar o template abaixo para criar seu código.\n",
    "B. Apresente um gráfico comparando a SER simulada e a SER teórica versus os valores de Es/N0 definidos acima.\n",
    "C. Podemos dizer que a curva simulada se aproxima da curva teórica da SER?\n",
    "D. Se as classes, ou seja, os símbolos, tivessem probabilidades diferentes, nós poderíamos dizer que o classificador ML é equivalente ao MAP?\n",
    "( Dica : Como os símbolos são representados por números complexos e a classe GaussianNB não suporta tal representação, você terá que instanciar 2 objetos da classe, um para cada componente do símbolo, ou seja, um classificador para a parte\n",
    "real (i.e., In-phase - I) e outro para a parte imaginária (Quadrature - Q).\n",
    "( Dica : A função erfc pode ser importada da seguinte forma: from scipy.special import erfc ).\n",
    "( Dica : Uma rápida revisão sobre taxa de erro de símbolo pode ser encontrada no link:\n",
    "http://www.dsplog.com/2007/11/06/symbol-error-rate-for-4-qam/ )."
   ]
  },
  {
   "cell_type": "code",
   "execution_count": 17,
   "metadata": {},
   "outputs": [
    {
     "name": "stdout",
     "output_type": "stream",
     "text": [
      "Es/N0 dB: -2\n",
      "Es/N0 dB: 0\n",
      "Es/N0 dB: 2\n",
      "Es/N0 dB: 4\n",
      "Es/N0 dB: 6\n",
      "Es/N0 dB: 8\n",
      "Es/N0 dB: 10\n",
      "Es/N0 dB: 12\n",
      "Es/N0 dB: 14\n",
      "Es/N0 dB: 16\n",
      "Es/N0 dB: 18\n",
      "Es/N0 dB: 20\n"
     ]
    }
   ],
   "source": [
    "# Template of a QPSK detection loop\n",
    "# Import all necessary libraries.\n",
    "import numpy as np\n",
    "from scipy.special import erfc\n",
    "from sklearn.naive_bayes import GaussianNB\n",
    "from sklearn.model_selection import train_test_split\n",
    "import matplotlib.pyplot as plt\n",
    "\n",
    "# Number of QPSK symbols to be transmitted.\n",
    "N = 10000000\n",
    "\n",
    "# Instantiate a Gaussian naive Bayes classifier for each one of the parts of a QPSKsymbol.\n",
    "gnb_re = GaussianNB()\n",
    "gnb_im = GaussianNB()\n",
    "\n",
    "# Create Es/N0 vector.\n",
    "EsN0dB = np.arange(-2,22,2)\n",
    "\n",
    "ser_simu = np.zeros(len(EsN0dB))\n",
    "ser_theo = np.zeros(len(EsN0dB))\n",
    "for idx in range(0,len(EsN0dB)):\n",
    "    \n",
    "    print('Es/N0 dB:', EsN0dB[idx])\n",
    "\n",
    "    EsN0Lin = 10.0**(-(EsN0dB[idx]/10.0))\n",
    "    \n",
    "    # Generate N BPSK symbols.\n",
    "    ip =(2.0 * (np.random.rand(N, 1) >= 0.5) - 1.0) + 1j*(2.0 * (np.random.rand(N, 1) >= 0.5) - 1.0)\n",
    "    # Normalization of energy to 1.\n",
    "    s = (1/np.sqrt(2))*ip;\n",
    "    \n",
    "    # Generate noise vector. \n",
    "    # Divide by two once the theoretical ber uses a complex Normal pdf with variance of each part = 1/2.\n",
    "    noise = np.sqrt(1.0/2.0)*(np.random.randn(N, 1) + 1j*np.random.randn(N, 1))\n",
    "    \n",
    "    # Pass symbols through AWGN channel.\n",
    "    y = s + np.sqrt(EsN0Lin)*noise\n",
    "    \n",
    "    # Split array into random train and test subsets.\n",
    "    ip_re_test, ip_re_train, y_re_test, y_re_train = train_test_split(ip.real, y.real, random_state=42)\n",
    "    ip_im_test, ip_im_train, y_im_test, y_im_train = train_test_split(ip.imag, y.imag, random_state=42)\n",
    "    \n",
    "    # Fit models for real and imaginary parts.\n",
    "    gnb_re.fit(y_re_train, ip_re_train.ravel())\n",
    "    gnb_im.fit(y_im_train, ip_im_train.ravel())\n",
    "    \n",
    "    # Prediction for real part.\n",
    "    detected_ip_re = gnb_re.predict(y_re_test)\n",
    "    detected_ip_re = detected_ip_re.reshape(len(y_re_test), 1)\n",
    "    # Prediction for imaginary part.\n",
    "    detected_ip_im = gnb_im.predict(y_im_test)\n",
    "    detected_ip_im = detected_ip_im.reshape(len(y_im_test), 1)    \n",
    "        \n",
    "    # Simulated QPSK BER.\n",
    "    error_re = (ip_re_test != detected_ip_re)\n",
    "    error_im = (ip_im_test != detected_ip_im)\n",
    "    error = 0;\n",
    "    for i in range(0, len(ip_re_test)): \n",
    "        if(error_re[i]==True or error_im[i]==True): \n",
    "            error = error + 1\n",
    "    \n",
    "    ser_simu[idx] = 1.0 * error / len(ip_re_test)\n",
    "    \n",
    "    # Theoretical BPSK BER.    \n",
    "    ser_theo[idx] = erfc( np.sqrt(  0.5*(10.0**(EsN0dB[idx]/10.0))   ) ) - (1/4)*(erfc(np.sqrt(0.5*(10.0**(EsN0dB[idx]/10.0)))))**2.0;"
   ]
  },
  {
   "cell_type": "code",
   "execution_count": 18,
   "metadata": {},
   "outputs": [
    {
     "name": "stdout",
     "output_type": "stream",
     "text": [
      "Es/N0:-2 \t- BER: 3.815468e-01\n",
      "Es/N0:0 \t- BER: 2.921671e-01\n",
      "Es/N0:2 \t- BER: 1.974103e-01\n",
      "Es/N0:4 \t- BER: 1.100529e-01\n",
      "Es/N0:6 \t- BER: 4.540120e-02\n",
      "Es/N0:8 \t- BER: 1.198840e-02\n",
      "Es/N0:10 \t- BER: 1.583867e-03\n",
      "Es/N0:12 \t- BER: 6.866667e-05\n",
      "Es/N0:14 \t- BER: 4.000000e-07\n",
      "Es/N0:16 \t- BER: 0.000000e+00\n",
      "Es/N0:18 \t- BER: 0.000000e+00\n",
      "Es/N0:20 \t- BER: 0.000000e+00\n"
     ]
    }
   ],
   "source": [
    "# Print Es/N0 versus BER values.\n",
    "for i in range(0,len(ser_simu)): print('Es/N0:%d \\t- BER: %e' % (EsN0dB[i], ser_simu[i]))"
   ]
  },
  {
   "cell_type": "code",
   "execution_count": 19,
   "metadata": {},
   "outputs": [
    {
     "data": {
      "image/png": "[encoded data removed]",
      "text/plain": [
       "<Figure size 504x504 with 1 Axes>"
      ]
     },
     "metadata": {
      "needs_background": "light"
     },
     "output_type": "display_data"
    }
   ],
   "source": [
    "# Plot Es/N0 versus BER values.\n",
    "fig = plt.figure(figsize=(7,7))\n",
    "plt.plot(EsN0dB, ser_theo, label='theoretical')\n",
    "plt.plot(EsN0dB, ser_simu, 'ro', label='simulated')\n",
    "plt.xscale('linear')\n",
    "plt.yscale('log')\n",
    "plt.xlabel('Es/N0 [dB]')\n",
    "plt.ylabel('SER')\n",
    "plt.grid(True)\n",
    "plt.title('QPSK detection')\n",
    "plt.legend()\n",
    "plt.xlim([-5, 10])\n",
    "plt.ylim([1e-5, 1])\n",
    "plt.savefig(\"qpsk_ber_curves.png\", dpi=600)\n",
    "plt.show()"
   ]
  },
  {
   "cell_type": "markdown",
   "metadata": {},
   "source": [
    "c. Sim, as curvas se assemelham.\n",
    "\n",
    "d. Se os símbolos tivessem probabilidades diferentes não poderíamos afirmar que o classificador ML é equivalente ao MAP."
   ]
  }
 ],
 "metadata": {
  "kernelspec": {
   "display_name": "Python 3",
   "language": "python",
   "name": "python3"
  },
  "language_info": {
   "codemirror_mode": {
    "name": "ipython",
    "version": 3
   },
   "file_extension": ".py",
   "mimetype": "text/x-python",
   "name": "python",
   "nbconvert_exporter": "python",
   "pygments_lexer": "ipython3",
   "version": "3.7.6"
  }
 },
 "nbformat": 4,
 "nbformat_minor": 4
}
