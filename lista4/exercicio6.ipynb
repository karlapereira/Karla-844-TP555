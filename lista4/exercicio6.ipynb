{
 "cells": [
  {
   "cell_type": "markdown",
   "metadata": {},
   "source": [
    "6. Neste exercício você fará a classificação de algumas mensagens em duas categorias ‘spam’ e ‘ham’. Utilize as 6 mensagens abaixo e seus respectivos rótulos para treinar um classificador naive Bayes Bernoulli.\n",
    "#Features.\n",
    "x_train = np.array(['free great offer if you join, a great offer for free!','great offer for free delivery',\n",
    "'uber is promoting a great offer for free',\n",
    "'try uber for free for your 1st ride',\n",
    "'earn your uber 10 credit for free by applying for the uber visa credit card',\n",
    "'uber receipt'])\n",
    "#Labels.\n",
    "y_train = np.array(['spam','spam','spam','ham','ham','ham'])\n",
    "Use a classe CountVectorizer com o parâmetro binary = True para criar a matriz indicando a presença ou não de uma palavra, ou seja, uma matriz com valores booleanos. Em seguida, treine o classificador. De posse do modelo treinado, preveja a qual classe as 2 mensagens abaixo pertencem.\n",
    "x_test = np.array(['Moonnight Trial', 'Limited offer: Free & Great Deal'])\n",
    "( Dica : use como base o exemplo: SPAMClassificationBernoulliNB.ipynb)"
   ]
  },
  {
   "cell_type": "code",
   "execution_count": 1,
   "metadata": {},
   "outputs": [],
   "source": [
    "# Import all necessary libraries.\n",
    "import pandas as pd\n",
    "import numpy as np\n",
    "from sklearn.naive_bayes import BernoulliNB\n",
    "from sklearn.feature_extraction.text import CountVectorizer\n",
    "from sklearn.model_selection import train_test_split\n",
    "from sklearn import metrics\n",
    "from sklearn.metrics import confusion_matrix\n",
    "from sklearn.metrics import accuracy_score, roc_curve, auc\n",
    "import seaborn as sns\n",
    "import matplotlib.pyplot as plt"
   ]
  },
  {
   "cell_type": "code",
   "execution_count": 2,
   "metadata": {},
   "outputs": [],
   "source": [
    "x_train = np.array(['free great offer if you join, a great offer for free!',\n",
    "          'great offer for free delivery',\n",
    "          'uber is promoting a great offer for free',\n",
    "          'try uber for free for your 1st ride',\n",
    "          'earn your uber 10 credit for free by applying for the uber visa credit card',\n",
    "          'uber receipt'])\n",
    "\n",
    "# spam: 0\n",
    "# ham: 1\n",
    "#y_train = np.array([0, 0, 0, 1, 1, 1])\n",
    "\n",
    "y_train = np.array(['spam','spam','spam','ham','ham','ham'])\n",
    "\n",
    "x_test = np.array(['Moonnight Trial', 'Limited offer: Free & Great Deal'])"
   ]
  },
  {
   "cell_type": "code",
   "execution_count": 3,
   "metadata": {},
   "outputs": [],
   "source": [
    "# Instantiate a CountVectorizer object.\n",
    "vect = CountVectorizer(binary=True)"
   ]
  },
  {
   "cell_type": "code",
   "execution_count": 4,
   "metadata": {},
   "outputs": [],
   "source": [
    "# Fit and transform X_train into x_train_dtm (document-term matrices - dtm).\n",
    "x_train_dtm = vect.fit_transform(x_train)"
   ]
  },
  {
   "cell_type": "code",
   "execution_count": 5,
   "metadata": {},
   "outputs": [],
   "source": [
    "# Transform X_test into X_test_dtm.\n",
    "x_test_dtm = vect.transform(x_test)"
   ]
  },
  {
   "cell_type": "code",
   "execution_count": 6,
   "metadata": {},
   "outputs": [],
   "source": [
    "# Instantiate a Bernoulli Naive Bayes model.\n",
    "model = BernoulliNB(binarize=None)"
   ]
  },
  {
   "cell_type": "code",
   "execution_count": 7,
   "metadata": {},
   "outputs": [
    {
     "data": {
      "text/plain": [
       "BernoulliNB(alpha=1.0, binarize=None, class_prior=None, fit_prior=True)"
      ]
     },
     "execution_count": 7,
     "metadata": {},
     "output_type": "execute_result"
    }
   ],
   "source": [
    "# train the model using X_train_dtm\n",
    "model.fit(x_train_dtm, y_train)"
   ]
  },
  {
   "cell_type": "code",
   "execution_count": 8,
   "metadata": {},
   "outputs": [],
   "source": [
    "y_pred_class = model.predict(x_test_dtm)"
   ]
  },
  {
   "cell_type": "code",
   "execution_count": 9,
   "metadata": {},
   "outputs": [
    {
     "name": "stdout",
     "output_type": "stream",
     "text": [
      "['ham' 'spam']\n"
     ]
    }
   ],
   "source": [
    "print(y_pred_class)"
   ]
  },
  {
   "cell_type": "code",
   "execution_count": 10,
   "metadata": {},
   "outputs": [
    {
     "name": "stdout",
     "output_type": "stream",
     "text": [
      "[[0.65498652 0.34501348]\n",
      " [0.0027732  0.9972268 ]]\n"
     ]
    }
   ],
   "source": [
    "print(model.predict_proba(x_test_dtm))"
   ]
  }
 ],
 "metadata": {
  "kernelspec": {
   "display_name": "Python 3",
   "language": "python",
   "name": "python3"
  },
  "language_info": {
   "codemirror_mode": {
    "name": "ipython",
    "version": 3
   },
   "file_extension": ".py",
   "mimetype": "text/x-python",
   "name": "python",
   "nbconvert_exporter": "python",
   "pygments_lexer": "ipython3",
   "version": "3.7.6"
  }
 },
 "nbformat": 4,
 "nbformat_minor": 4
}
