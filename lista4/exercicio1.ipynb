{
 "cells": [
  {
   "cell_type": "markdown",
   "metadata": {},
   "source": [
    "TP555 - AI/ML\n",
    "Lista de Exercícios #4\n",
    "Classificação Linear: Parte 1\n",
    "\n",
    "1. Neste exercício você utilizará o teorema de Bayes. Considere dois exames médicos, A e B, para um vírus. O teste A é 95% eficaz no reconhecimento do vírus quando ele está presente, mas tem uma taxa de falso positivo de 10% (indicando que o vírus está presente, quando ele não está). O teste B é 90% eficaz no reconhecimento do vírus, mas possui uma taxa de falso positivo de 5%. Os dois testes usam métodos independentes para identificar o vírus. 1% de todas as pessoas possuem o vírus. Digamos que uma pessoa é testada para o vírus usando apenas um dos testes e que o teste é positivo para o vírus. Qual teste, retornando positivo, é mais indicativo de alguém realmente estar com o vírus?"
   ]
  },
  {
   "cell_type": "markdown",
   "metadata": {},
   "source": [
    "# A = 95% eficaz e 10% de falso positivo | B = 90% eficaz e 5% falso positivo\n",
    "\n",
    "PA(+/doença) = 0.95\n",
    "PA(+/sem_doença) = 0.1\n",
    "\n",
    "PB(+/doença) = 0.9\n",
    "PB(+/sem_doença) = 0.05\n",
    "\n",
    "P(doença) = 0.01\n",
    "P(sem_doença) = 0.99\n",
    "P(+) = P(+/doença)*P(doença) + P(+/sem_doença) * P(sem_doença)\n",
    "\n",
    "PA(+) = 0.95*0.01 + 0.1*0.99\n",
    "PA(+) = 0.0095 + 0.099 = 0.1085\n",
    "\n",
    "PB(+) = 0.9*0.01 + 0.05*0.99\n",
    "PB(+) = 0.0585\n",
    "\n",
    "Probabilidade de alguém ter a doença testando positivo para A:\n",
    "PA(doença/+) = PA(+/doença)*P(doença)/PA(+)\n",
    "PA(doença/+) = 0.95*0.01/0.1085\n",
    "PA(doença/+) = 0.0875\n",
    "\n",
    "Probabilidade de alguém ter a doença testando positivo para B:\n",
    "PB(doença/+) = PB(+/doença)*P(doença)/PB(+)\n",
    "PB(doença/+) = 0.9*0.01/0.0585\n",
    "PB(doença/+) = 0.15\n",
    "\n",
    "O teste B seria mais indicado, pois apresenta uma taxa maior de acerto para testes positivos que tem doença."
   ]
  }
 ],
 "metadata": {
  "kernelspec": {
   "display_name": "Python 3",
   "language": "python",
   "name": "python3"
  },
  "language_info": {
   "codemirror_mode": {
    "name": "ipython",
    "version": 3
   },
   "file_extension": ".py",
   "mimetype": "text/x-python",
   "name": "python",
   "nbconvert_exporter": "python",
   "pygments_lexer": "ipython3",
   "version": "3.7.6"
  }
 },
 "nbformat": 4,
 "nbformat_minor": 4
}
